{
 "cells": [
  {
   "cell_type": "code",
   "execution_count": 9,
   "metadata": {},
   "outputs": [],
   "source": [
    "from langchain.chat_models import ChatOpenAI\n",
    "from langchain.prompts import ChatPromptTemplate\n",
    "from langchain.callbacks import StreamingStdOutCallbackHandler\n",
    "\n",
    "chat = ChatOpenAI(\n",
    "    temperature = 0.1,\n",
    "    streaming=True,\n",
    "    callbacks=[StreamingStdOutCallbackHandler()]\n",
    ")"
   ]
  },
  {
   "cell_type": "code",
   "execution_count": 10,
   "metadata": {},
   "outputs": [],
   "source": [
    "made_poem_prompt = ChatPromptTemplate.from_messages(\n",
    "    [\n",
    "        (\"system\", \"You are world-class international poet. You create poetry about the programming language\"),\n",
    "        (\"human\", \"I want to make poetry from {language}\"),\n",
    "    ]\n",
    ")\n",
    "\n",
    "made_poem_chain = made_poem_prompt | chat"
   ]
  },
  {
   "cell_type": "code",
   "execution_count": 11,
   "metadata": {},
   "outputs": [],
   "source": [
    "expain_poem_prompt = ChatPromptTemplate.from_messages(\n",
    "    [\n",
    "        (\"system\", \"You are good at explaining poetry to people.\"),\n",
    "        (\"human\", \"{poem}\"),\n",
    "    ]\n",
    ")\n",
    "\n",
    "explain_poem_chain = expain_poem_prompt | chat"
   ]
  },
  {
   "cell_type": "code",
   "execution_count": 12,
   "metadata": {},
   "outputs": [
    {
     "name": "stdout",
     "output_type": "stream",
     "text": [
      "In the land of Python, where code is art,\n",
      "Indentation rules with a gentle heart.\n",
      "From loops to functions, and classes too,\n",
      "The syntax flows like morning dew.\n",
      "\n",
      "With libraries vast and modules grand,\n",
      "Python weaves a magical strand.\n",
      "From data science to web design,\n",
      "Its power and flexibility shine.\n",
      "\n",
      "No need for semicolons or braces,\n",
      "Python's simplicity embraces.\n",
      "With readability as its creed,\n",
      "In elegance, it takes the lead.\n",
      "\n",
      "So let us write in Python's grace,\n",
      "And let our code in beauty trace.\n",
      "For in this language, we find our voice,\n",
      "In Python, we truly rejoice.This poem beautifully captures the essence of Python programming language and its unique characteristics. Let's break it down stanza by stanza:\n",
      "\n",
      "1. The first stanza sets the scene in the \"land of Python\" where code is described as art. The mention of \"indentation rules with a gentle heart\" refers to Python's significant use of indentation for structuring code, which is a distinctive feature of the language.\n",
      "\n",
      "2. The second stanza highlights the versatility of Python, mentioning its use in loops, functions, classes, and the smooth flow of syntax like \"morning dew.\" It also mentions the vast libraries and modules available in Python, emphasizing its ability to handle various tasks from data science to web design.\n",
      "\n",
      "3. The third stanza contrasts Python's simplicity with other languages by mentioning the absence of semicolons and braces, which are common in many other programming languages. The focus on readability and elegance in Python's code is emphasized, positioning it as a leader in these aspects.\n",
      "\n",
      "4. The final stanza encourages embracing Python's grace and beauty in coding, suggesting that writing code in Python allows for self-expression and joy. The poem concludes with a sense of celebration and appreciation for the language.\n",
      "\n",
      "Overall, this poem effectively conveys the appeal and strengths of Python as a programming language, making it accessible and engaging for both experienced programmers and newcomers alike."
     ]
    },
    {
     "data": {
      "text/plain": [
       "AIMessageChunk(content='This poem beautifully captures the essence of Python programming language and its unique characteristics. Let\\'s break it down stanza by stanza:\\n\\n1. The first stanza sets the scene in the \"land of Python\" where code is described as art. The mention of \"indentation rules with a gentle heart\" refers to Python\\'s significant use of indentation for structuring code, which is a distinctive feature of the language.\\n\\n2. The second stanza highlights the versatility of Python, mentioning its use in loops, functions, classes, and the smooth flow of syntax like \"morning dew.\" It also mentions the vast libraries and modules available in Python, emphasizing its ability to handle various tasks from data science to web design.\\n\\n3. The third stanza contrasts Python\\'s simplicity with other languages by mentioning the absence of semicolons and braces, which are common in many other programming languages. The focus on readability and elegance in Python\\'s code is emphasized, positioning it as a leader in these aspects.\\n\\n4. The final stanza encourages embracing Python\\'s grace and beauty in coding, suggesting that writing code in Python allows for self-expression and joy. The poem concludes with a sense of celebration and appreciation for the language.\\n\\nOverall, this poem effectively conveys the appeal and strengths of Python as a programming language, making it accessible and engaging for both experienced programmers and newcomers alike.')"
      ]
     },
     "execution_count": 12,
     "metadata": {},
     "output_type": "execute_result"
    }
   ],
   "source": [
    "final_chain = {\"poem\" : made_poem_chain} | explain_poem_chain\n",
    "\n",
    "final_chain.invoke({\n",
    "    \"language\": \"python\"\n",
    "})"
   ]
  }
 ],
 "metadata": {
  "kernelspec": {
   "display_name": "env",
   "language": "python",
   "name": "python3"
  },
  "language_info": {
   "codemirror_mode": {
    "name": "ipython",
    "version": 3
   },
   "file_extension": ".py",
   "mimetype": "text/x-python",
   "name": "python",
   "nbconvert_exporter": "python",
   "pygments_lexer": "ipython3",
   "version": "3.11.4"
  }
 },
 "nbformat": 4,
 "nbformat_minor": 2
}

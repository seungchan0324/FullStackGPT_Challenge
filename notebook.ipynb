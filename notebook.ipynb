{
 "cells": [
  {
   "cell_type": "code",
   "execution_count": 4,
   "metadata": {},
   "outputs": [],
   "source": [
    "from langchain.chat_models import ChatOpenAI\n",
    "from langchain.callbacks import StreamingStdOutCallbackHandler\n",
    "from langchain.prompts import ChatPromptTemplate\n",
    "from langchain.prompts.few_shot import FewShotChatMessagePromptTemplate\n",
    "\n",
    "chat = ChatOpenAI(\n",
    "    temperature = 0.1,\n",
    "    streaming=True,\n",
    "    callbacks=[StreamingStdOutCallbackHandler()]\n",
    ")"
   ]
  },
  {
   "cell_type": "code",
   "execution_count": 10,
   "metadata": {},
   "outputs": [
    {
     "name": "stdout",
     "output_type": "stream",
     "text": [
      "\n",
      "        Here is what I know:\n",
      "        Director: James Cameron\n",
      "        Main Cast: Sam Worthington, Zoe Saldana\n",
      "        Budget: 237,000,000$\n",
      "        Box office revenue: 2,923,240,000$\n",
      "        Genre: science fiction, action, adventure\n",
      "        Small synopsis: \"Avatar\" is a science fiction film directed by James Cameron. It was released in 2009 and became the highest-grossing film of all time until it was surpassed by \"Avengers: Endgame\" in 2019. The film is known for its groundbreaking visual effects and immersive 3D experience. Cameron has announced multiple sequels to \"Avatar,\" with the first sequel set to be released in 2022."
     ]
    },
    {
     "data": {
      "text/plain": [
       "AIMessageChunk(content='\\n        Here is what I know:\\n        Director: James Cameron\\n        Main Cast: Sam Worthington, Zoe Saldana\\n        Budget: 237,000,000$\\n        Box office revenue: 2,923,240,000$\\n        Genre: science fiction, action, adventure\\n        Small synopsis: \"Avatar\" is a science fiction film directed by James Cameron. It was released in 2009 and became the highest-grossing film of all time until it was surpassed by \"Avengers: Endgame\" in 2019. The film is known for its groundbreaking visual effects and immersive 3D experience. Cameron has announced multiple sequels to \"Avatar,\" with the first sequel set to be released in 2022.')"
      ]
     },
     "execution_count": 10,
     "metadata": {},
     "output_type": "execute_result"
    }
   ],
   "source": [
    "examples = [\n",
    "    {\n",
    "        \"movie\": \"What do you know about Wikid\",\n",
    "        \"answer\": \"\"\"\n",
    "        Here is what I know:\n",
    "        Director: Jon M. Chu\n",
    "        Main Cast: Cynthia Erivo, Ariana Grande\n",
    "        Budget: 145,000,000$\n",
    "        Box office revenue: 680,580,000$\n",
    "        Genre: fantasy, musical, action, adventure\n",
    "        Small synopsis: A live-action film from the musical \" The Wicked.\" The original is Gregory Maguire's novel \" The Wicked.\" The first act of the musical, which tells the story of the middle part of the fiction award, is a film adaptation.\n",
    "        \"\"\",\n",
    "    },\n",
    "    {\n",
    "        \"movie\": \"What do you know about Moana2\",\n",
    "        \"answer\": \"\"\"\n",
    "        Here is what I know:\n",
    "        Director: David Derrick Jr.\n",
    "        Main Cast: Auliʻi Cravalho, Dwayne Johnson\n",
    "        Budget: 150,000,000$\n",
    "        Box office revenue: 960,452,483$\n",
    "        Genre: fantasy, musical, action, adventure\n",
    "        Small synopsis: Walt Disney Animation Studios' 63rd feature animated film, released on November 27, 2024. It is the follow-up to the first installment in eight years since the prequel.\n",
    "        \"\"\",\n",
    "    },\n",
    "]\n",
    "\n",
    "\n",
    "example_prompt = ChatPromptTemplate.from_messages(\n",
    "    [\n",
    "        (\"human\", \"What do you know about {movie}?\"),\n",
    "        (\"ai\", \"{answer}\"),\n",
    "    ]\n",
    ")\n",
    "\n",
    "example_prompt = FewShotChatMessagePromptTemplate(\n",
    "    example_prompt=example_prompt,\n",
    "    examples=examples,\n",
    ")\n",
    "\n",
    "final_prompt = ChatPromptTemplate.from_messages(\n",
    "    [\n",
    "        (\"system\", \"You are well aware of all the films released to date.\"),\n",
    "        example_prompt,\n",
    "        (\"human\", \"What do you know about {movie}?\"),\n",
    "    ]\n",
    ")\n",
    "\n",
    "chain = final_prompt | chat\n",
    "\n",
    "chain.invoke({\"movie\":\"Avatar\"})"
   ]
  }
 ],
 "metadata": {
  "kernelspec": {
   "display_name": "env",
   "language": "python",
   "name": "python3"
  },
  "language_info": {
   "codemirror_mode": {
    "name": "ipython",
    "version": 3
   },
   "file_extension": ".py",
   "mimetype": "text/x-python",
   "name": "python",
   "nbconvert_exporter": "python",
   "pygments_lexer": "ipython3",
   "version": "3.11.4"
  }
 },
 "nbformat": 4,
 "nbformat_minor": 2
}
